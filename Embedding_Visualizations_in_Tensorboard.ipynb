{
  "nbformat": 4,
  "nbformat_minor": 0,
  "metadata": {
    "colab": {
      "name": "Embedding-Visualizations-in-Tensorboard",
      "provenance": [],
      "collapsed_sections": []
    },
    "kernelspec": {
      "name": "python3",
      "display_name": "Python 3"
    },
    "accelerator": "GPU"
  },
  "cells": [
    {
      "cell_type": "code",
      "metadata": {
        "id": "CZZQODUyoOgN"
      },
      "source": [
        "try:\n",
        "    %tensorflow_version 2.x\n",
        "except Exception:\n",
        "    pass\n",
        "\n",
        "import os\n",
        "import tensorflow as tf\n",
        "import tensorflow_datasets as tfds\n",
        "from tensorboard.plugins import projector\n",
        "%reload_ext tensorboard"
      ],
      "execution_count": null,
      "outputs": []
    },
    {
      "cell_type": "code",
      "metadata": {
        "colab": {
          "base_uri": "https://localhost:8080/"
        },
        "id": "6Hez4nZEote-",
        "outputId": "9b7cdc9b-6e88-49e0-e948-61a4b22c47e7"
      },
      "source": [
        "(train_data, test_data), info = tfds.load(\"imdb_reviews/subwords8k\",\n",
        "                                          split=(tfds.Split.TRAIN, tfds.Split.TEST),\n",
        "                                          with_info = True,\n",
        "                                          as_supervised=True)\n",
        "\n",
        "encoder = info.features[\"text\"].encoder\n",
        "\n",
        "train_batches = train_data.shuffle(1000).padded_batch(10,\n",
        "                                                      padded_shapes=((None,), ()))\n",
        "test_batches = test_data.shuffle(1000).padded_batch(10,\n",
        "                                                    padded_shapes=((None, ), ()))\n",
        "\n",
        "train_batch, train_labels = next(iter(train_batches))"
      ],
      "execution_count": null,
      "outputs": [
        {
          "output_type": "stream",
          "text": [
            "WARNING:absl:TFDS datasets with text encoding are deprecated and will be removed in a future version. Instead, you should use the plain text version and tokenize the text using `tensorflow_text` (See: https://www.tensorflow.org/tutorials/tensorflow_text/intro#tfdata_example)\n"
          ],
          "name": "stderr"
        }
      ]
    },
    {
      "cell_type": "code",
      "metadata": {
        "colab": {
          "base_uri": "https://localhost:8080/"
        },
        "id": "dCCIUm5bpNDn",
        "outputId": "6dc88d42-8d96-4888-cb9d-f754c50ed044"
      },
      "source": [
        "embedding_dimension = 16\n",
        "embedding = tf.keras.layers.Embedding(encoder.vocab_size,\n",
        "                                      embedding_dimension)\n",
        "\n",
        "model = tf.keras.Sequential(\n",
        "    [\n",
        "     embedding,\n",
        "     tf.keras.layers.GlobalAveragePooling1D(),\n",
        "     tf.keras.layers.Dense(16, activation=\"relu\"),\n",
        "     tf.keras.layers.Dense(1),\n",
        "    ]\n",
        ")\n",
        "\n",
        "model.compile(optimizer=\"adam\",\n",
        "              loss=tf.keras.losses.BinaryCrossentropy(from_logits=True),\n",
        "              metrics=[\"accuracy\"])\n",
        "\n",
        "model.summary()"
      ],
      "execution_count": null,
      "outputs": [
        {
          "output_type": "stream",
          "text": [
            "Model: \"sequential\"\n",
            "_________________________________________________________________\n",
            "Layer (type)                 Output Shape              Param #   \n",
            "=================================================================\n",
            "embedding_1 (Embedding)      (None, None, 16)          130960    \n",
            "_________________________________________________________________\n",
            "global_average_pooling1d_1 ( (None, 16)                0         \n",
            "_________________________________________________________________\n",
            "dense (Dense)                (None, 16)                272       \n",
            "_________________________________________________________________\n",
            "dense_1 (Dense)              (None, 1)                 17        \n",
            "=================================================================\n",
            "Total params: 131,249\n",
            "Trainable params: 131,249\n",
            "Non-trainable params: 0\n",
            "_________________________________________________________________\n"
          ],
          "name": "stdout"
        }
      ]
    },
    {
      "cell_type": "code",
      "metadata": {
        "id": "ajICew3Rqwjj"
      },
      "source": [
        "log_dir = \"./logs/imdb-example\"\n",
        "if not os.path.exists(log_dir):\n",
        "    os.makedirs(log_dir)\n",
        "\n",
        "with open(os.path.join(log_dir, 'metadata.tsv'), 'w') as f:\n",
        "    for subwords in encoder.subwords:\n",
        "        f.write(f\"{subwords}\\n\")\n",
        "    for unknown in range(1, encoder.vocab_size - len(encoder.subwords)):\n",
        "        f.write(f\"unknown #{unknown}\")"
      ],
      "execution_count": null,
      "outputs": []
    },
    {
      "cell_type": "code",
      "metadata": {
        "id": "rd4a7VrMr-6w"
      },
      "source": [
        "weights = tf.Variable(model.layers[0].get_weights()[0][1:])\n",
        "checkpoint = tf.train.Checkpoint(embedding=weights)\n",
        "checkpoint.save(os.path.join(log_dir, \"embedding.ckpt\"))\n",
        "\n",
        "config = projector.ProjectorConfig()\n",
        "embedding = config.embeddings.add()\n",
        "embedding.tensor_name = \"embedding/.ATTRIBUTES/VARIABLE_VALUE\"\n",
        "embedding.metadata_path = \"metadata.tsv\"\n",
        "projector.visualize_embeddings(log_dir, config)"
      ],
      "execution_count": null,
      "outputs": []
    },
    {
      "cell_type": "code",
      "metadata": {
        "colab": {
          "base_uri": "https://localhost:8080/"
        },
        "id": "croRpMjisgjj",
        "outputId": "b5388ffd-47d1-4e5c-9010-fcf7bb51b8c2"
      },
      "source": [
        "!tensorboard dev upload --logdir ./logs/imdb-example/ \\\n",
        "  --name \"Visualizing Word Embeddings from IMDB dataset\" \\\n",
        "  --description \"Training results from https://colab.research.google.com/drive/1M6-Fv54D-5eaAK0Vp6lHsTN17ud4SG8D#scrollTo=croRpMjisgjj\" \\\n",
        "  --one_shot"
      ],
      "execution_count": null,
      "outputs": [
        {
          "output_type": "stream",
          "text": [
            "2021-03-10 06:01:46.355907: I tensorflow/stream_executor/platform/default/dso_loader.cc:49] Successfully opened dynamic library libcudart.so.11.0\n",
            "\n",
            "***** TensorBoard Uploader *****\n",
            "\n",
            "This will upload your TensorBoard logs to https://tensorboard.dev/ from\n",
            "the following directory:\n",
            "\n",
            "./logs/imdb-example/\n",
            "\n",
            "This TensorBoard will be visible to everyone. Do not upload sensitive\n",
            "data.\n",
            "\n",
            "Your use of this service is subject to Google's Terms of Service\n",
            "<https://policies.google.com/terms> and Privacy Policy\n",
            "<https://policies.google.com/privacy>, and TensorBoard.dev's Terms of Service\n",
            "<https://tensorboard.dev/policy/terms/>.\n",
            "\n",
            "This notice will not be shown again while you are logged into the uploader.\n",
            "To log out, run `tensorboard dev auth revoke`.\n",
            "\n",
            "Continue? (yes/NO) yes\n",
            "\n",
            "Please visit this URL to authorize this application: https://accounts.google.com/o/oauth2/auth?response_type=code&client_id=373649185512-8v619h5kft38l4456nm2dj4ubeqsrvh6.apps.googleusercontent.com&redirect_uri=urn%3Aietf%3Awg%3Aoauth%3A2.0%3Aoob&scope=openid+https%3A%2F%2Fwww.googleapis.com%2Fauth%2Fuserinfo.email&state=6DSO7h63keRNT34aDC9HVMoC9ROM8N&prompt=consent&access_type=offline\n",
            "Enter the authorization code: 4/1AY0e-g7SpYVPEqMAsJy0IpPECtujYm_iw0DfUDkN7zPXzBIYKo9v80msrBk\n",
            "\n",
            "Data for the \"text\" plugin is now uploaded to TensorBoard.dev! Note that uploaded data is public. If you do not want to upload data for this plugin, use the \"--plugins\" command line argument.\n",
            "\n",
            "New experiment created. View your TensorBoard at: https://tensorboard.dev/experiment/B6w4QtphRGGt7tEkFacqcw/\n",
            "\n",
            "\u001b[1m[2021-03-10T06:02:40]\u001b[0m Started scanning logdir.\n",
            "\u001b[1m[2021-03-10T06:02:40]\u001b[0m Done scanning logdir.\n",
            "TensorBoard was run in `one_shot` mode, but did not find any uploadable data in the specified logdir: ./logs/imdb-example/\n",
            "An empty experiment was created. To delete the empty experiment you can execute the following\n",
            "\n",
            "    tensorboard dev delete --experiment_id=B6w4QtphRGGt7tEkFacqcw\n",
            "\n",
            "\n",
            "Done.\n"
          ],
          "name": "stdout"
        }
      ]
    },
    {
      "cell_type": "code",
      "metadata": {
        "id": "QeROypVZtHPN"
      },
      "source": [
        ""
      ],
      "execution_count": null,
      "outputs": []
    },
    {
      "cell_type": "code",
      "metadata": {
        "id": "TDjQoNTysmmP"
      },
      "source": [
        ""
      ],
      "execution_count": null,
      "outputs": []
    }
  ]
}